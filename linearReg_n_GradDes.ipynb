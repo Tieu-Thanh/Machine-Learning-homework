{
 "cells": [
  {
   "attachments": {},
   "cell_type": "markdown",
   "metadata": {},
   "source": [
    "LINEAR REGRESSION & GRADIENT DESCENT\n",
    "python implemtation by lecture"
   ]
  },
  {
   "cell_type": "code",
   "execution_count": 2,
   "metadata": {},
   "outputs": [],
   "source": [
    "import numpy as np\n",
    "import matplotlib.pyplot as plt\n"
   ]
  },
  {
   "cell_type": "code",
   "execution_count": 4,
   "metadata": {},
   "outputs": [
    {
     "data": {
      "image/png": "[encoded data removed]",
      "text/plain": [
       "<Figure size 640x480 with 1 Axes>"
      ]
     },
     "metadata": {},
     "output_type": "display_data"
    }
   ],
   "source": [
    "x = [1, 2, 3, 4, 5, 6, 7]\n",
    "y = [2, 4.1, 6.3, 10.2, 10.5, 12.1, 14.1]\n",
    "\n",
    "plt.plot(x, y, 'ro')\n",
    "plt.xlabel('X')\n",
    "plt.ylabel('y')\n",
    "plt.show()\n"
   ]
  },
  {
   "cell_type": "code",
   "execution_count": 5,
   "metadata": {},
   "outputs": [],
   "source": [
    "w = [1, 1]\n",
    "\n",
    "\n",
    "def f(x, w):\n",
    "    return w[0] + w[1]*x\n",
    "\n",
    "\n",
    "def loss(x, y, w):\n",
    "    d = 0\n",
    "    for i in range(len(x)):\n",
    "        d += (y[i] - f(x[i], w))**2\n",
    "    return d/(2*len(x))\n",
    "\n",
    "\n",
    "def derivative(x, y, w):\n",
    "    d0 = 0\n",
    "    d1 = 0\n",
    "    for i in range(len(x)):\n",
    "        d1 += x[i]*(f(x[i], w)-y[i])\n",
    "        d0 += f(x[i], w) - y[i]\n",
    "    return d0/len(x), d1/len(x)\n"
   ]
  },
  {
   "cell_type": "code",
   "execution_count": null,
   "metadata": {},
   "outputs": [],
   "source": [
    "epoch = 10\n",
    "learning_rate = 0.01\n",
    "w = [1, 1]  # y = x + 1\n",
    "los_old = 0\n",
    "for i in range(epoch):\n",
    "    # display charts\n",
    "    plt.plot(x, y, 'ro')\n",
    "    plt.xlabel('X')\n",
    "    plt.ylabel('Y')\n",
    "    x0 = np.linspace(start=1, stop=10, num=50)\n",
    "    y0 = w[0] + w[1]*x0\n",
    "    plt.plot(x0, y0)\n",
    "    plt.show()\n",
    "\n",
    "    # check if loss decreases\n",
    "    los = loss(x, y, w)\n",
    "    print('epoch_', i, ':')\n",
    "    print(los, ' : ', los_old)\n",
    "    print(w)\n",
    "    if los > los_old and i > 0:\n",
    "        break\n",
    "    los_old = los\n",
    "\n",
    "    # update\n",
    "    a, b = derivative(x, y, w)\n",
    "    w[0] = w[0] - a*learning_rate\n",
    "    w[1] = w[1] - b*learning_rate\n"
   ]
  },
  {
   "attachments": {},
   "cell_type": "markdown",
   "metadata": {},
   "source": [
    "# lib"
   ]
  },
  {
   "cell_type": "code",
   "execution_count": 6,
   "metadata": {},
   "outputs": [],
   "source": [
    "x1 = np.array([[1, 2, 3, 4, 5, 6, 7]])\n",
    "x2 = np.array([[1, 2, 5.1, 4.2, 7.5, 6.1, 9.2]])\n",
    "\n",
    "y = np.array([2, 4.1, 6.3, 10.2, 10.5, 12.1, 14.1])\n",
    "\n",
    "N = x1.shape[1]\n",
    "x0 = np.ones((1, N))\n",
    "\n",
    "X = np.concatenate((x0.T, x1.T, x2.T), axis=1)\n",
    "d = X.shape[1]"
   ]
  },
  {
   "cell_type": "code",
   "execution_count": 7,
   "metadata": {},
   "outputs": [
    {
     "name": "stdout",
     "output_type": "stream",
     "text": [
      "[[1.  1.  1. ]\n",
      " [1.  2.  2. ]\n",
      " [1.  3.  5.1]\n",
      " [1.  4.  4.2]\n",
      " [1.  5.  7.5]\n",
      " [1.  6.  6.1]\n",
      " [1.  7.  9.2]]\n",
      "3\n"
     ]
    }
   ],
   "source": [
    "print(X)\n",
    "print(d)"
   ]
  },
  {
   "cell_type": "code",
   "execution_count": 8,
   "metadata": {},
   "outputs": [],
   "source": [
    "def f(x, w):\n",
    "    return np.dot(x,w).reval()"
   ]
  }
 ],
 "metadata": {
  "kernelspec": {
   "display_name": "base",
   "language": "python",
   "name": "python3"
  },
  "language_info": {
   "codemirror_mode": {
    "name": "ipython",
    "version": 3
   },
   "file_extension": ".py",
   "mimetype": "text/x-python",
   "name": "python",
   "nbconvert_exporter": "python",
   "pygments_lexer": "ipython3",
   "version": "3.9.13"
  },
  "orig_nbformat": 4,
  "vscode": {
   "interpreter": {
    "hash": "a4df7a6600e22bae99e6e8f837be5af686fd7a404512ca9c2620376f38fe7d31"
   }
  }
 },
 "nbformat": 4,
 "nbformat_minor": 2
}
